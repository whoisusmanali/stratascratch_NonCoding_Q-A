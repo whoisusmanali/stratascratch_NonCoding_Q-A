{
 "cells": [
  {
   "cell_type": "markdown",
   "id": "83789d8b",
   "metadata": {},
   "source": [
    "# Q1. New vs Old Design\n",
    "A company has a website with a 5% conversion rate. They want to test a new design to see if it improves the conversion rate. They randomly show the new design to 100 users and the old design to another 100 users. The new design results in 10 conversions, while the old design results in 5 conversions. Is the new design statistically significant?"
   ]
  },
  {
   "cell_type": "code",
   "execution_count": 18,
   "id": "d141e829",
   "metadata": {},
   "outputs": [],
   "source": [
    "import numpy as np\n",
    "from scipy.stats import norm\n",
    "import math"
   ]
  },
  {
   "cell_type": "code",
   "execution_count": 26,
   "id": "f12f4236",
   "metadata": {},
   "outputs": [
    {
     "name": "stdout",
     "output_type": "stream",
     "text": [
      "0.9102525908134848\n",
      "The P-Value: 0.18 is greater than the Signifince level: 0.05. That is why there are no fair evidence that there is no significance difference between new and old design\n"
     ]
    }
   ],
   "source": [
    "#So from the question it can be solved by using the two_proportion z-test\n",
    "def old_vs_new_design(n1, n2, conv1, conv2, significance = 0.05):\n",
    "    #For z-test the formula is: (p1-p2)/root(P(1-P)(1/n+1/n2))\n",
    "    p1 = conv1 / n1 #It is for old Design\n",
    "    p2 = conv2 / n2 #It is for new Design\n",
    "    P = (conv1 + conv2) / (n1 + n2)\n",
    "    \"\"\"nominator = P(1 - P)\n",
    "    denominator = (1/n1) + (1/n2)\"\"\"\n",
    "    SE = np.sqrt(P*(1-P)*(1/n1 + 1/n2))\n",
    "    Z_test = (p1-p2)/SE\n",
    "    z_norm_value = norm.cdf(abs(Z_test))\n",
    "    print(z_norm_value)\n",
    "    p_value = 2 * (1 - z_norm_value)\n",
    "    if p_value <= significance:\n",
    "        print(f\"The P-Value: {round(p_value,2)} is less than the Signifince level: {significance}. That is why there are fair evidence that there is significance difference between new and old design\")\n",
    "    else:\n",
    "        print(f\"The P-Value: {round(p_value,2)} is greater than the Signifince level: {significance}. That is why there are no fair evidence that there is no significance difference between new and old design\")\n",
    "\n",
    "old_vs_new_design(100, 100, 5, 10)\n",
    "\n"
   ]
  },
  {
   "cell_type": "markdown",
   "id": "7e44cdf7",
   "metadata": {},
   "source": [
    "# Q2. Email Spam\n",
    "A cybersecurity firm reports that 10% of all emails sent are spam. If a user receives 100 emails, what is the probability that at least 5 of them are spam?"
   ]
  },
  {
   "cell_type": "code",
   "execution_count": 22,
   "id": "08fcc6be",
   "metadata": {},
   "outputs": [
    {
     "name": "stdout",
     "output_type": "stream",
     "text": [
      "The probabilit for the provided information to be spam is: 0.999\n"
     ]
    }
   ],
   "source": [
    "#This is possible by using the Binomial and Complement \n",
    "#Binomial Formula is: (n k)p^k(1-p)^(n-k)\n",
    "def email_spam(n, p, i):\n",
    "    combined_sum = 0\n",
    "    for k in range(0,i):\n",
    "        p = p/100 # To convert this into probability format\n",
    "        numerator = math.factorial(n)\n",
    "        denumerator = math.factorial(k)*(numerator-math.factorial(k))\n",
    "        combination = numerator/denumerator # The final combinations or could be done by using the math.comb(n,k)\n",
    "        nominal2 = (p**k) * (1-p)**(n-k) #Half part of the formula\n",
    "        binomial = combination * nominal2 #Final Binomial values\n",
    "        combined_sum += binomial #All combined Values\n",
    "    complement = 1 - combined_sum #Complement for checking probability \n",
    "    return complement\n",
    "        \n",
    "result = email_spam(100, 10, 5)\n",
    "print(f\"The probabilit for the provided information to be spam is: {round(result,3)}\")"
   ]
  },
  {
   "cell_type": "markdown",
   "id": "1e5436b5",
   "metadata": {},
   "source": [
    "# Q3. More Effective Advertisement\n",
    "A website has two versions of an advertisement: one with a blue background and one with a red background. You want to determine which version is more effective at getting users to click on the ad. You randomly show one version to 100 users and the other version to another 100 users. The blue ad is clicked on by 30 users and the red ad is clicked on by 40 users. What is the probability that the red ad is more effective, given this data?"
   ]
  },
  {
   "cell_type": "code",
   "execution_count": 39,
   "id": "3e18683d",
   "metadata": {},
   "outputs": [
    {
     "name": "stdout",
     "output_type": "stream",
     "text": [
      "The P-Value: 0.09 is greater than the Signifince level: 0.05. That is why there are no significant evidance to say that red is more attractive than the blue background\n"
     ]
    }
   ],
   "source": [
    "#So from the question it can be solved by using the two_proportion z-test\n",
    "def old_vs_new_design(n1, n2, clicked1, clicked2, significance = 0.05):\n",
    "    #For z-test the formula is: (p1-p2)/root(P(1-P)(1/n+1/n2))\n",
    "    p1 = clicked1 / n1 #It is for old Design\n",
    "    p2 = clicked2 / n2 #It is for new Design\n",
    "    P = (conv1 + conv2) / (n1 + n2) #Pooled probability\n",
    "    \"\"\"nominator = P(1 - P)\n",
    "    denominator = (1/n1) + (1/n2)\"\"\"\n",
    "    Z_test = (p1-p2)/np.sqrt(P*(1-P)*(1/n1 + 1/n2))\n",
    "    z_norm_value = norm.cdf(Z_test)\n",
    "    #print(z_norm_value)\n",
    "    p_value = z_norm_value #As we are checking for red more famous than the blue\n",
    "    if p_value <= significance:\n",
    "        print(f\"The P-Value: {round(p_value,2)} is less than the Signifince level: {significance}. That is why there are we can say that red is more attractive than the blue background\")\n",
    "    else:\n",
    "        print(f\"The P-Value: {round(p_value,2)} is greater than the Signifince level: {significance}. That is why there are no significant evidance to say that red is more attractive than the blue background\")\n",
    "\n",
    "old_vs_new_design(100, 100, 5, 10)\n",
    "\n"
   ]
  },
  {
   "cell_type": "markdown",
   "id": "35982855",
   "metadata": {},
   "source": [
    "# Q4. Drawing Balls\n",
    "You are given a bag containing 10 balls, of which 3 are red and 7 are blue. You randomly draw 3 balls without replacement. What is the probability that at least 2 of the balls are red?"
   ]
  },
  {
   "cell_type": "code",
   "execution_count": 46,
   "id": "990d627f",
   "metadata": {},
   "outputs": [
    {
     "name": "stdout",
     "output_type": "stream",
     "text": [
      "The probability of getting atleast 2 red balls from 3 draw is: 0.18, or 18.33%\n"
     ]
    }
   ],
   "source": [
    "#This problem could be solved by using the first Find the combinations and then use mutual exclusive events to find the probability.\n",
    "def drawing_balls(n, red, blue, random_draw, at_least):\n",
    "    total_combination = math.comb(10, 3) #Total number of combinations it is n!/k!(n-k)!\n",
    "    two_out_of_3 = math.comb(3,2) #Draw 2 red out of 3\n",
    "    one_out_of_7 = math.comb(7, 1) #Draw 1 ball out of 7 balls\n",
    "    exactly_3 = math.comb(3, 3) #Combinations for all same balls\n",
    "    two_favourable = two_out_of_3 * one_out_of_7 \n",
    "    total_favourable_outcomes = two_favourable + exactly_3\n",
    "    final_Probability = total_favourable_outcomes/total_combination\n",
    "    #print(total_combination, two_out_of_3, one_out_of_7, exactly_3, two_favourable, total_favourable_outcomes)\n",
    "    return final_Probability\n",
    "\n",
    "probability = drawing_balls(10, 3, 7, 3, 2)\n",
    "print(f\"The probability of getting atleast 2 red balls from 3 draw is: {round(probability, 2)}, or {round(probability*100, 2)}%\")"
   ]
  },
  {
   "cell_type": "markdown",
   "id": "5737bc44",
   "metadata": {},
   "source": [
    "# Q5. Fair vs Baised Coin\n",
    "Suppose you have two coins, one of which is fair (heads and tails are equally likely) and one of which is biased (heads comes up 75% of the time). You randomly select one of the coins and flip it twice. If both flips come up heads, what is the probability that the selected coin is the fair one?"
   ]
  },
  {
   "cell_type": "code",
   "execution_count": 53,
   "id": "ad79b201",
   "metadata": {},
   "outputs": [
    {
     "name": "stdout",
     "output_type": "stream",
     "text": [
      "The Probability of Getting Fair Coin when there are two Heads is 0.31 or 30.77% chances\n"
     ]
    }
   ],
   "source": [
    "#This problem is solve able by using the Baye's Theorem Formula = P(F|HH) = [P(HH|F)*P(F)]/P(HH)\n",
    "def fair_vs_baised_coin(f, b):\n",
    "    #First get start with P(HH|F)\n",
    "    p_hh_f = f * f\n",
    "    p_hh_b = b * b\n",
    "    p_f = f\n",
    "    p_hh = f*p_hh_f + f*p_hh_b\n",
    "    nominator = p_hh_f * p_f\n",
    "    final_result = nominator / p_hh\n",
    "    return final_result\n",
    "\n",
    "f_b = fair_vs_baised_coin(0.5, 0.75)\n",
    "print(f\"The Probability of Getting Fair Coin when there are two Heads is {round(f_b, 2)} or {round(f_b*100, 2)}% chances\")"
   ]
  },
  {
   "cell_type": "code",
   "execution_count": null,
   "id": "3e596559",
   "metadata": {},
   "outputs": [],
   "source": []
  }
 ],
 "metadata": {
  "kernelspec": {
   "display_name": "Python 3 (ipykernel)",
   "language": "python",
   "name": "python3"
  },
  "language_info": {
   "codemirror_mode": {
    "name": "ipython",
    "version": 3
   },
   "file_extension": ".py",
   "mimetype": "text/x-python",
   "name": "python",
   "nbconvert_exporter": "python",
   "pygments_lexer": "ipython3",
   "version": "3.11.5"
  }
 },
 "nbformat": 4,
 "nbformat_minor": 5
}
