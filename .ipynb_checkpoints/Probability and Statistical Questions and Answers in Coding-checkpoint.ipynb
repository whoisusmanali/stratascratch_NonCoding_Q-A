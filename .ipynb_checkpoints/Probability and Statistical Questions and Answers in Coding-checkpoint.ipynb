{
 "cells": [
  {
   "cell_type": "markdown",
   "id": "153edd8c",
   "metadata": {},
   "source": [
    "# Q1. New vs Old Design\n",
    "A company has a website with a 5% conversion rate. They want to test a new design to see if it improves the conversion rate. They randomly show the new design to 100 users and the old design to another 100 users. The new design results in 10 conversions, while the old design results in 5 conversions. Is the new design statistically significant?"
   ]
  },
  {
   "cell_type": "code",
   "execution_count": 2,
   "id": "db150fd5",
   "metadata": {},
   "outputs": [
    {
     "name": "stdout",
     "output_type": "stream",
     "text": [
      "Collecting scapy\n",
      "  Downloading scapy-2.5.0.tar.gz (1.3 MB)\n",
      "\u001b[2K     \u001b[90m━━━━━━━━━━━━━━━━━━━━━━━━━━━━━━━━━━━━━━━━\u001b[0m \u001b[32m1.3/1.3 MB\u001b[0m \u001b[31m2.6 MB/s\u001b[0m eta \u001b[36m0:00:00\u001b[0ma \u001b[36m0:00:01\u001b[0m\n",
      "\u001b[?25h  Preparing metadata (setup.py) ... \u001b[?25ldone\n",
      "\u001b[?25hBuilding wheels for collected packages: scapy\n",
      "  Building wheel for scapy (setup.py) ... \u001b[?25ldone\n",
      "\u001b[?25h  Created wheel for scapy: filename=scapy-2.5.0-py2.py3-none-any.whl size=1444326 sha256=a744a434900b857db919042c833f25db480d17fde3ea5ba81707dd906177f3d3\n",
      "  Stored in directory: /Users/usmanali/Library/Caches/pip/wheels/11/ff/28/a1348d0c6d006242c053521732bc2951d0c9eca62a11430da1\n",
      "Successfully built scapy\n",
      "Installing collected packages: scapy\n",
      "Successfully installed scapy-2.5.0\n",
      "\n",
      "\u001b[1m[\u001b[0m\u001b[34;49mnotice\u001b[0m\u001b[1;39;49m]\u001b[0m\u001b[39;49m A new release of pip is available: \u001b[0m\u001b[31;49m24.0\u001b[0m\u001b[39;49m -> \u001b[0m\u001b[32;49m24.2\u001b[0m\n",
      "\u001b[1m[\u001b[0m\u001b[34;49mnotice\u001b[0m\u001b[1;39;49m]\u001b[0m\u001b[39;49m To update, run: \u001b[0m\u001b[32;49m/Users/usmanali/anaconda3/bin/python -m pip install --upgrade pip\u001b[0m\n",
      "Note: you may need to restart the kernel to use updated packages.\n"
     ]
    }
   ],
   "source": [
    "pip install scapy"
   ]
  },
  {
   "cell_type": "code",
   "execution_count": 18,
   "id": "a9ba9dd3",
   "metadata": {},
   "outputs": [],
   "source": [
    "import numpy as np\n",
    "import scapy as sp\n",
    "from scipy.stats import norm\n",
    "import math"
   ]
  },
  {
   "cell_type": "code",
   "execution_count": 26,
   "id": "425b72e6",
   "metadata": {},
   "outputs": [
    {
     "name": "stdout",
     "output_type": "stream",
     "text": [
      "0.9102525908134848\n",
      "The P-Value: 0.18 is greater than the Signifince level: 0.05. That is why there are no fair evidence that there is no significance difference between new and old design\n"
     ]
    }
   ],
   "source": [
    "#So from the question it can be solved by using the two_proportion z-test\n",
    "def old_vs_new_design(n1, n2, conv1, conv2, significance = 0.05):\n",
    "    #For z-test the formula is: (p1-p2)/root(P(1-P)(1/n+1/n2))\n",
    "    p1 = conv1 / n1 #It is for old Design\n",
    "    p2 = conv2 / n2 #It is for new Design\n",
    "    P = (conv1 + conv2) / (n1 + n2)\n",
    "    \"\"\"nominator = P(1 - P)\n",
    "    denominator = (1/n1) + (1/n2)\"\"\"\n",
    "    SE = np.sqrt(P*(1-P)*(1/n1 + 1/n2))\n",
    "    Z_test = (p1-p2)/SE\n",
    "    z_norm_value = norm.cdf(abs(Z_test))\n",
    "    print(z_norm_value)\n",
    "    p_value = 2 * (1 - z_norm_value)\n",
    "    if p_value <= significance:\n",
    "        print(f\"The P-Value: {round(p_value,2)} is less than the Signifince level: {significance}. That is why there are fair evidence that there is significance difference between new and old design\")\n",
    "    else:\n",
    "        print(f\"The P-Value: {round(p_value,2)} is greater than the Signifince level: {significance}. That is why there are no fair evidence that there is no significance difference between new and old design\")\n",
    "\n",
    "old_vs_new_design(100, 100, 5, 10)\n",
    "\n"
   ]
  },
  {
   "cell_type": "markdown",
   "id": "12331226",
   "metadata": {},
   "source": [
    "# Q2. Email Spam\n",
    "A cybersecurity firm reports that 10% of all emails sent are spam. If a user receives 100 emails, what is the probability that at least 5 of them are spam?"
   ]
  },
  {
   "cell_type": "code",
   "execution_count": 22,
   "id": "c374cfd7",
   "metadata": {},
   "outputs": [
    {
     "name": "stdout",
     "output_type": "stream",
     "text": [
      "The probabilit for the provided information to be spam is: 0.999\n"
     ]
    }
   ],
   "source": [
    "#This is possible by using the Binomial and Complement \n",
    "#Binomial Formula is: (n k)p^k(1-p)^(n-k)\n",
    "def email_spam(n, p, i):\n",
    "    combined_sum = 0\n",
    "    for k in range(0,i):\n",
    "        p = p/100 # To convert this into probability format\n",
    "        numerator = math.factorial(n)\n",
    "        denumerator = math.factorial(k)*(numerator-math.factorial(k))\n",
    "        combination = numerator/denumerator # The final combinations or could be done by using the math.comb(n,k)\n",
    "        nominal2 = (p**k) * (1-p)**(n-k) #Half part of the formula\n",
    "        binomial = combination * nominal2 #Final Binomial values\n",
    "        combined_sum += binomial #All combined Values\n",
    "    complement = 1 - combined_sum #Complement for checking probability \n",
    "    return complement\n",
    "        \n",
    "result = email_spam(100, 10, 5)\n",
    "print(f\"The probabilit for the provided information to be spam is: {round(result,3)}\")"
   ]
  },
  {
   "cell_type": "code",
   "execution_count": null,
   "id": "e4055771",
   "metadata": {},
   "outputs": [],
   "source": []
  }
 ],
 "metadata": {
  "kernelspec": {
   "display_name": "Python 3 (ipykernel)",
   "language": "python",
   "name": "python3"
  },
  "language_info": {
   "codemirror_mode": {
    "name": "ipython",
    "version": 3
   },
   "file_extension": ".py",
   "mimetype": "text/x-python",
   "name": "python",
   "nbconvert_exporter": "python",
   "pygments_lexer": "ipython3",
   "version": "3.11.5"
  }
 },
 "nbformat": 4,
 "nbformat_minor": 5
}
